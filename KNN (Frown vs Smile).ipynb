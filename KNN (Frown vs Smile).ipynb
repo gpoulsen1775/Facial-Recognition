{
 "cells": [
  {
   "cell_type": "markdown",
   "metadata": {},
   "source": [
    "<h1> KNN CLASSIFICATION OF FACIAL FEATURES </h1>"
   ]
  },
  {
   "cell_type": "markdown",
   "metadata": {},
   "source": [
    "<h1> Imports </h1>"
   ]
  },
  {
   "cell_type": "code",
   "execution_count": 177,
   "metadata": {},
   "outputs": [],
   "source": [
    "import cv2\n",
    "import pandas as pd\n",
    "import numpy as np\n",
    "import glob\n",
    "import matplotlib.pyplot as plt\n",
    "import random\n",
    "import seaborn as sns"
   ]
  },
  {
   "cell_type": "markdown",
   "metadata": {},
   "source": [
    "<h1> A Function For Sorting Our Files </h1>"
   ]
  },
  {
   "cell_type": "code",
   "execution_count": 178,
   "metadata": {},
   "outputs": [],
   "source": [
    "def sortFiles(List):\n",
    "    \n",
    "    \n",
    "    columns = ['index','Name']\n",
    "    s = pd.DataFrame(columns)\n",
    "    \n",
    "    counter = 0\n",
    "    \n",
    "    for ele in List:\n",
    "        \n",
    "        s.loc[counter,'index'] = List.index(ele)\n",
    "        \n",
    "        ele = ele.replace('/Users/grantpoulsen/Desktop/Facial Recognition/','')\n",
    "        ele = ele.replace('.jpg','')\n",
    "        s.loc[counter,'Name'] = ele\n",
    "        \n",
    "        counter = counter + 1\n",
    "        \n",
    "        \n",
    "    s = s.sort_values('Name')\n",
    "    \n",
    "    return s"
   ]
  },
  {
   "cell_type": "markdown",
   "metadata": {},
   "source": [
    "<h1> My KNN Algorithm </h1>"
   ]
  },
  {
   "cell_type": "code",
   "execution_count": 179,
   "metadata": {},
   "outputs": [],
   "source": [
    "#KNN: A KNN Algorithm for working with dataframes \n",
    "\n",
    "#Params:\n",
    "    \n",
    "    #K: Number of Neighbors to Compare\n",
    "    \n",
    "    #test: This should be an unlabeled \n",
    "    #subset of our data where the index\n",
    "    #has remained unchanged and the data\n",
    "    #has columns: 'width' & 'height'.     <- The Columns Used Could Also be Parameterized, but This is Not Necessary Here\n",
    "\n",
    "    #data: This should be a labled dataframe \n",
    "    #with columns 'width' & 'height'     \n",
    "    #to comparem the unlabled data with.  <- The Columns Used Could Also be Parameterized, but This is Not Necessary Here\n",
    "    \n",
    "def KNN(K,test,data):\n",
    "    \n",
    "    #List For Labeling Picture\n",
    "    classification = []\n",
    "\n",
    "    #Iterate through each point we're labeling\n",
    "    for index1, row1 in test.iterrows():\n",
    "    \n",
    "        vector1 = np.array([row1['width'],row1['height']])\n",
    "    \n",
    "        #Get Data For Comparing\n",
    "        trainIds = list(range(10))\n",
    "        trainIds.remove(index1)\n",
    "        train = data.iloc[trainIds,:]\n",
    "    \n",
    "        idx = []\n",
    "        dist = []\n",
    "    \n",
    "        #Get distances between test data and all other data\n",
    "        for index2, row2 in train.iterrows():\n",
    "        \n",
    "            vector2 = np.array(list([row2['width'],row2['height']]))\n",
    "        \n",
    "            idx.append(index2)\n",
    "            dist.append(np.linalg.norm(vector1-vector2))\n",
    "    \n",
    "        fourNN = []\n",
    "        fourNNIdx = []\n",
    "    \n",
    "        #Get Four Nearest Neighbors & Their Index\n",
    "        for i in range(K):\n",
    "        \n",
    "            smallestDistance = min(dist)\n",
    "            correspondingIndex = idx[dist.index(min(dist))]\n",
    "        \n",
    "            fourNN.append(smallestDistance)\n",
    "            fourNNIdx.append(correspondingIndex)\n",
    "    \n",
    "            dist.remove(min(dist))\n",
    "            idx.remove(correspondingIndex)\n",
    "    \n",
    "        votes = []\n",
    "    \n",
    "        #Get The Four Nearest Neighbors \n",
    "        for index in fourNNIdx:\n",
    "        \n",
    "            votes.append(train.loc[index,'class'])\n",
    "    \n",
    "        mostVotes = max(set(votes), key = votes.count)\n",
    "    \n",
    "        classification.append(mostVotes)\n",
    "    \n",
    "    test['class'] = classification\n",
    "    \n",
    "    return test"
   ]
  },
  {
   "cell_type": "markdown",
   "metadata": {},
   "source": [
    "<h1> Data Extraction From Images</h1>"
   ]
  },
  {
   "cell_type": "code",
   "execution_count": 180,
   "metadata": {},
   "outputs": [],
   "source": [
    "#Make DF\n",
    "column_names = ['picture','width','height','class']\n",
    "dfFace = pd.DataFrame(columns = column_names)\n",
    "\n",
    "files = []\n",
    "\n",
    "#Get File Names\n",
    "for filepath in glob.iglob('/Users/grantpoulsen/Desktop/Facial Recognition/*'):\n",
    "    \n",
    "    files.append(filepath)\n",
    "\n",
    "#Get File Names in Order\n",
    "f = sortFiles(files)\n",
    "files = f['Name'].values\n",
    "\n",
    "#Split into two types of files: For Getting Ratio of Facial Feature \n",
    "#Size Compated to Face Size\n",
    "faceFiles = files[1::2] \n",
    "facialFeatureFiles = files[::2]\n",
    "\n",
    "#Iter through each file\n",
    "for i in range(len(facialFeatureFiles)):\n",
    "    \n",
    "    #Make Pathway\n",
    "    featurePath = '/Users/grantpoulsen/Desktop/Facial Recognition/'\n",
    "    featurePath = featurePath + facialFeatureFiles[i]\n",
    "    featurePath = featurePath + '.jpg'\n",
    "    \n",
    "    #Read Image\n",
    "    facialFeature = cv2.imread(featurePath)\n",
    "    \n",
    "    #Get shpae of facial feature\n",
    "    lFeature,wFeature,oFeature = facialFeature.shape\n",
    "    \n",
    "    #Make Pathway\n",
    "    facePath = '/Users/grantpoulsen/Desktop/Facial Recognition/'\n",
    "    facePath = facePath + faceFiles[i]\n",
    "    facePath = facePath + '.jpg'\n",
    "    facePath = facePath.replace('.jpeg','')\n",
    "    \n",
    "    #Read Image\n",
    "    face = cv2.imread(facePath)\n",
    "    \n",
    "    #Get shape of face\n",
    "    lFace,wFace,oFace = face.shape\n",
    "    \n",
    "    \n",
    "    #Finalize Data Before Throwing into DF\n",
    "    pic = facialFeatureFiles[i]\n",
    "    \n",
    "    width = wFeature/wFace\n",
    "    height = lFeature/lFace\n",
    "    \n",
    "    cls = pic.replace('Grant ','')\n",
    "    cls = cls.replace('Grandma ','')\n",
    "    cls = cls.replace('Sam','')\n",
    "    cls = cls.replace('Gretta','')\n",
    "    cls = cls.replace('Maya','')\n",
    "    \n",
    "    #Append\n",
    "    dfFace = dfFace.append({'picture':pic, 'width':width , 'height':height, 'class':cls}, ignore_index=True)\n"
   ]
  },
  {
   "cell_type": "code",
   "execution_count": 181,
   "metadata": {},
   "outputs": [
    {
     "name": "stdout",
     "output_type": "stream",
     "text": [
      "               picture     width    height         class\n",
      "0        Grandma Frown  0.507143  0.128205         Frown\n",
      "1  Grandma Smile Teeth  0.547445  0.229885   Smile Teeth\n",
      "2          Grant Frown  0.473934  0.157692         Frown\n",
      "3    Grant Smile Teeth  0.575000  0.203187   Smile Teeth\n",
      "4         Gretta Frown  0.513636  0.136531         Frown\n",
      "5   Gretta Smile Teeth  0.587983  0.208481   Smile Teeth\n",
      "6           Maya Frown  0.581281  0.131579         Frown\n",
      "7     Maya Smile Teeth  0.648515  0.194245   Smile Teeth\n",
      "8            Sam Frown  0.511450  0.147436         Frown\n",
      "9      Sam Smile Teeth  0.498141  0.178218   Smile Teeth\n"
     ]
    }
   ],
   "source": [
    "print(dfFace)"
   ]
  },
  {
   "cell_type": "markdown",
   "metadata": {},
   "source": [
    "<h1> Plot Width Ratio vs Height Ratio</h1>"
   ]
  },
  {
   "cell_type": "code",
   "execution_count": 182,
   "metadata": {},
   "outputs": [
    {
     "data": {
      "image/png": "[encoded data removed]",
      "text/plain": [
       "<Figure size 640x480 with 1 Axes>"
      ]
     },
     "metadata": {},
     "output_type": "display_data"
    }
   ],
   "source": [
    "#Scatter Pts. \n",
    "plt.scatter(dfFace['width'],dfFace['height'])\n",
    "\n",
    "\n",
    "#Label Pts.\n",
    "counter = 0\n",
    "\n",
    "for c in dfFace['class'].values:\n",
    "    \n",
    "    plt.text(dfFace.loc[counter,'width'],dfFace.loc[counter,'height'],c)\n",
    "    counter = counter + 1\n",
    "  \n",
    "#Set Axis\n",
    "plt.xlabel('% Face Width Covered By Facial Feature')\n",
    "plt.ylabel('% Face Height Covered By Facial Feature')\n",
    "plt.show()"
   ]
  },
  {
   "cell_type": "markdown",
   "metadata": {},
   "source": [
    "<h1> Make Subset of Data for Testing That's Unlabled </h1>"
   ]
  },
  {
   "cell_type": "code",
   "execution_count": 183,
   "metadata": {},
   "outputs": [],
   "source": [
    "testIds = list(range(10))\n",
    "test = dfFace.iloc[testIds,:]\n",
    "test = test.drop('class', axis = 1)"
   ]
  },
  {
   "cell_type": "code",
   "execution_count": 184,
   "metadata": {},
   "outputs": [
    {
     "name": "stdout",
     "output_type": "stream",
     "text": [
      "               picture     width    height\n",
      "0        Grandma Frown  0.507143  0.128205\n",
      "1  Grandma Smile Teeth  0.547445  0.229885\n",
      "2          Grant Frown  0.473934  0.157692\n",
      "3    Grant Smile Teeth  0.575000  0.203187\n",
      "4         Gretta Frown  0.513636  0.136531\n",
      "5   Gretta Smile Teeth  0.587983  0.208481\n",
      "6           Maya Frown  0.581281  0.131579\n",
      "7     Maya Smile Teeth  0.648515  0.194245\n",
      "8            Sam Frown  0.511450  0.147436\n",
      "9      Sam Smile Teeth  0.498141  0.178218\n"
     ]
    }
   ],
   "source": [
    "print(test)"
   ]
  },
  {
   "cell_type": "markdown",
   "metadata": {},
   "source": [
    "<h1> Run KNN W/ 4 </h1>"
   ]
  },
  {
   "cell_type": "code",
   "execution_count": 185,
   "metadata": {},
   "outputs": [
    {
     "name": "stdout",
     "output_type": "stream",
     "text": [
      "               picture     width    height         class\n",
      "0        Grandma Frown  0.507143  0.128205         Frown\n",
      "1  Grandma Smile Teeth  0.547445  0.229885   Smile Teeth\n",
      "2          Grant Frown  0.473934  0.157692         Frown\n",
      "3    Grant Smile Teeth  0.575000  0.203187   Smile Teeth\n",
      "4         Gretta Frown  0.513636  0.136531         Frown\n",
      "5   Gretta Smile Teeth  0.587983  0.208481   Smile Teeth\n",
      "6           Maya Frown  0.581281  0.131579         Frown\n",
      "7     Maya Smile Teeth  0.648515  0.194245   Smile Teeth\n",
      "8            Sam Frown  0.511450  0.147436         Frown\n",
      "9      Sam Smile Teeth  0.498141  0.178218         Frown\n"
     ]
    }
   ],
   "source": [
    "test = KNN(4,test,dfFace)\n",
    "print(test)"
   ]
  },
  {
   "cell_type": "markdown",
   "metadata": {},
   "source": [
    "<p> 90 percent accuracy... Not Bad! Let's optimize this! </p>"
   ]
  },
  {
   "cell_type": "markdown",
   "metadata": {},
   "source": [
    "<h1> Optimization </h1>"
   ]
  },
  {
   "cell_type": "code",
   "execution_count": 186,
   "metadata": {},
   "outputs": [],
   "source": [
    "\n",
    "k = []\n",
    "k = list(range(1,10))\n",
    "scores = []\n",
    "\n",
    "for i in range(1,10):\n",
    "    \n",
    "    test = KNN(i,test,dfFace)\n",
    "    \n",
    "    correct = 0\n",
    "    total = 0\n",
    "    for index,row in test.iterrows():\n",
    "        \n",
    "        actual = row['picture']\n",
    "        \n",
    "        actual = actual.replace('Grandma ','')\n",
    "        actual = actual.replace('Grant ','')\n",
    "        actual = actual.replace('Gretta ','')\n",
    "        actual = actual.replace('Maya ','')\n",
    "        actual = actual.replace('Sam ','')\n",
    "        actual = actual.replace(' ','')\n",
    "        \n",
    "        guess = row['class']\n",
    "        guess = guess.replace(' ','')\n",
    "        \n",
    "        if(guess == actual):\n",
    "            \n",
    "            correct = correct + 1\n",
    "            \n",
    "        total = total + 1\n",
    "\n",
    "    score = correct/total\n",
    "    scores.append(score)\n"
   ]
  },
  {
   "cell_type": "markdown",
   "metadata": {},
   "source": [
    "<h1> Plot Findings </h1>"
   ]
  },
  {
   "cell_type": "code",
   "execution_count": 187,
   "metadata": {},
   "outputs": [
    {
     "data": {
      "image/png": "[encoded data removed]",
      "text/plain": [
       "<Figure size 640x480 with 1 Axes>"
      ]
     },
     "metadata": {},
     "output_type": "display_data"
    }
   ],
   "source": [
    "plt.plot(k,scores)\n",
    "plt.title('Accuracey vs Choice of K')\n",
    "plt.ylabel('Percentage Correct')\n",
    "plt.xlabel('Choice of K')\n",
    "plt.show()"
   ]
  }
 ],
 "metadata": {
  "kernelspec": {
   "display_name": "Python 3",
   "language": "python",
   "name": "python3"
  },
  "language_info": {
   "codemirror_mode": {
    "name": "ipython",
    "version": 3
   },
   "file_extension": ".py",
   "mimetype": "text/x-python",
   "name": "python",
   "nbconvert_exporter": "python",
   "pygments_lexer": "ipython3",
   "version": "3.8.5"
  }
 },
 "nbformat": 4,
 "nbformat_minor": 4
}
